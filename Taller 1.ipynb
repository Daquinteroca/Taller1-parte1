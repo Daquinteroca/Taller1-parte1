{
 "cells": [
  {
   "cell_type": "markdown",
   "metadata": {},
   "source": [
    "# TALLER No. 1"
   ]
  },
  {
   "cell_type": "markdown",
   "metadata": {},
   "source": [
    "1. Sin utilizar el comando abs, escribir un programa que calcule e imprima el valor absoluto de cualquier número (sea entero o decimal)."
   ]
  },
  {
   "cell_type": "code",
   "execution_count": 1,
   "metadata": {},
   "outputs": [
    {
     "name": "stdout",
     "output_type": "stream",
     "text": [
      "Ingrese un numero: -256\n",
      "El valor absoluto es:  256.0\n"
     ]
    }
   ],
   "source": [
    "'''\n",
    "Calculo del valor absoluto de un número\n",
    "'''\n",
    "\n",
    "x=float(input('Ingrese un numero: ')) #ingresa número a evaluar\n",
    "\n",
    "if x>0:\n",
    "    print ('El valor absoluto es: ',x) #si el numero es positivo, deja igual.\n",
    "elif x<0:\n",
    "    print ('El valor absoluto es: ', -x) #si es negativo, pasa a positivo."
   ]
  },
  {
   "cell_type": "markdown",
   "metadata": {},
   "source": [
    "2. Leer un número entero y escribirlo en reversa. Por ejemplo, 461975 será 579164. No utilizar comandos de ordenamiento. "
   ]
  },
  {
   "cell_type": "code",
   "execution_count": 6,
   "metadata": {},
   "outputs": [
    {
     "name": "stdout",
     "output_type": "stream",
     "text": [
      "Escriba el numero a invertir: 4774758\n",
      "8574774"
     ]
    }
   ],
   "source": [
    "'''\n",
    "Escribir un número en reversa\n",
    "'''\n",
    "\n",
    "num=int(input('Escriba el numero a invertir: '))\n",
    "\n",
    "while num>0: #itera mientras el numero no sea cero\n",
    "    \n",
    "    res = num % 10 #calcula el residuo de la división entre 10\n",
    "    num = int (num/10) #quita el último digito\n",
    "    print ('%d' % res, end='') #va escribiendo los residuos que va teniendo el\n",
    "                                #número"
   ]
  },
  {
   "cell_type": "markdown",
   "metadata": {},
   "source": [
    "3. Leer un número entero de 3 dígitos y determinar si contiene el dígito 8. "
   ]
  },
  {
   "cell_type": "code",
   "execution_count": 14,
   "metadata": {},
   "outputs": [
    {
     "name": "stdout",
     "output_type": "stream",
     "text": [
      "Escriba el número a evaluar: -789\n",
      "El numero tiene 8\n"
     ]
    }
   ],
   "source": [
    "'''\n",
    "Leer entero, determinar si tiene tres digitos y decir si uno de sus digitos es 8\n",
    "'''\n",
    "\n",
    "num=int(input('Escriba el número a evaluar: '))\n",
    "aux=int(num) #auxiliar que va guardando el numero cada vez que se reduce \n",
    "             #por la divisón entre 10\n",
    "cont1=0 #contador del número de digitos del número\n",
    "cont2=0 #contador del número de veces que aparece el 8\n",
    "\n",
    "while num>0: #deja de iterar cuando el número sea cero\n",
    "    cont1+=1 #por cada digito aumento 1 en el contador de dígitos\n",
    "    num=int(num/10)\n",
    "    \n",
    "if cont != 3:\n",
    "    print('Numero invalido') #error si el número no tiene tres digitos\n",
    "else:\n",
    "    while aux>0: #evalua aux que es gual al numero ingresado\n",
    "        res = aux % 10\n",
    "        if res == 8:\n",
    "            cont2+=1 #si el residuo de la división entre 10 es 8, aumenta en 1 \n",
    "                     #el contador de los 8.\n",
    "            aux = int (aux/10)\n",
    "        else:\n",
    "            aux = int(aux/10)\n",
    "    if cont2>0: #si hubo 8 diga que si\n",
    "        print('El numero tiene 8')\n",
    "    elif cont2==0: #si no hay 8, infomarlo\n",
    "        print('El numero no tiene 8')"
   ]
  },
  {
   "cell_type": "markdown",
   "metadata": {},
   "source": [
    "4. Leer un número entero positivo y determinar la suma de sus dígitos pares. Por ejemplo, en el número 124, los dígitos pares son el 2 y el 4 y su suma vale 6."
   ]
  },
  {
   "cell_type": "code",
   "execution_count": null,
   "metadata": {},
   "outputs": [],
   "source": [
    "'''\n",
    "Leer un numero y sumar sus digitos pares\n",
    "'''\n",
    "\n",
    "num=int(input('Escriba el número a evaluar: '))\n",
    "dig_par=list() #lista que almacena los dígitos pares\n",
    "suma=0 #variable que almacena la suma de los pares\n",
    "\n",
    "if num<0:\n",
    "    print('Escriba un numero positivo')\n",
    "while num > 0:\n",
    "    res = num % 10 #identifica el ultimo dígito del número\n",
    "    if res%2==0: #verificar si el digito guardado en res es par\n",
    "        dig_par.append(res) #si es par agregarlo a la lista\n",
    "    num = int (num/10) #quitar el ultimo digito para seguir evaluando\n",
    "    \n",
    "for i in dig_par:\n",
    "    suma += i #suma todos los elementos de la lista de pares.\n",
    "print ('La suma de los digitos pares es: ', suma)\n"
   ]
  },
  {
   "cell_type": "markdown",
   "metadata": {},
   "source": [
    "5. Leer un número entero y determinar el número de cincos que están consecutivos en un número. Por ejemplo, en 5512355551 hay 6 cincos consecutivos. Ahora, en 234555234512 solo hay 3 cincos consecutivos."
   ]
  },
  {
   "cell_type": "code",
   "execution_count": null,
   "metadata": {},
   "outputs": [],
   "source": [
    "'''     \n",
    "Escribir cuantas veces aparece un digito de forma consecutiva en un número\n",
    "'''\n",
    "\n",
    "num=abs(int(input('Escriba el numero a evaluar: '))) \n",
    "cont=0 #lleva la cuenta de los dig consecutivos\n",
    "dig=5 #Digito que se contará si esta consecutivo\n",
    "res_ant=False #residuo evaluado en el ciclo anterior\n",
    "res_ant_ant=False #residuo evaluado en el ciclo anterior-anterior\n",
    "while num>0:\n",
    "    res = num % 10 #se toma el último dígito del número\n",
    "    if res==dig:\n",
    "        if res_ant is True and res_ant_ant is False:\n",
    "            cont+=2 #si el ultimo digito y el contado anteriormente son dig, \n",
    "                    #cuenta 2\n",
    "        elif res_ant is True and res_ant_ant is True:\n",
    "            cont+=1 #si el digito contado, el anterior y el trasanterior son \n",
    "                    #dig entonces aumenta uno mas a la cuenta\n",
    "    res_ant_ant = res_ant #para continuar con el ciclo va modificando \n",
    "                          #asi lo anterior será anterior anterior en el siguiente\n",
    "    res_ant = res==dig #en el siguiente el ultimo digito del numero se \n",
    "                        #convierte en el anterior\n",
    "    num=int(num/10) #siempre va quitando el ultimo dígito para seguir\n",
    "print('El numero tiene ', cont, ' cincos.')"
   ]
  },
  {
   "cell_type": "markdown",
   "metadata": {},
   "source": [
    "6. Leer un número entero y determinar si la suma de sus dígitos es un número de Fibonacci. "
   ]
  },
  {
   "cell_type": "code",
   "execution_count": 17,
   "metadata": {},
   "outputs": [
    {
     "name": "stdout",
     "output_type": "stream",
     "text": [
      "Escriba el numero a evaluar: 312\n",
      "La suma de sus digitos NO es un numero de fibonacci\n"
     ]
    }
   ],
   "source": [
    "'''\n",
    "Leer entero y determinar si la suma de sus digitos es numero de fibonacci\n",
    "'''\n",
    "num= abs(int(input('Escriba el numero a evaluar: ')))\n",
    "dig=list() #almacena en una lista los dígitos del número\n",
    "suma=0\n",
    "num_fib=0 #define la serie de fibonacci\n",
    "num_ant=0 #numero anterior en la serie de finacci\n",
    "num_ant_ant=1 #número anterior anterior en la serie de fibonacci\n",
    "fib=list() #lista que almacena los número que va generando la serie\n",
    "\n",
    "\n",
    "while num>0:\n",
    "    res=num%10 #va evaluando el ultimo dígito del número\n",
    "    dig.append(res) #guarda el ultimo digito en la lista dig\n",
    "    num=int(num/10) #modifica el número quitandole siempre el ultimo digito\n",
    "    \n",
    "for i in dig:\n",
    "    suma+=i #suma todos los digitos\n",
    "        \n",
    "while num_fib<=suma: #sacara la serie de fibonacci hasta que se llegue a un \n",
    "                     #numero mayor a la suma de los digitos\n",
    "    fib.append(num_fib)  #ingresa cada numero de fibonacci en la lista que \n",
    "                         #los almacena\n",
    "    num_fib=num_ant+num_ant_ant #definicón de la serie de fibonacci\n",
    "    num_ant_ant=num_ant #el anterior pasa a ser anterior anterior\n",
    "    num_ant=num_fib #el ultimo numero ingresado a la lista de fibonacci \n",
    "                    #será anterior en el siguiente ciclo\n",
    "\n",
    "if suma in fib:\n",
    "    print('La suma de sus digitos es un numero de fibonacci')\n",
    "else:\n",
    "    print('La suma de sus digitos NO es un numero de fibonacci')"
   ]
  },
  {
   "cell_type": "markdown",
   "metadata": {},
   "source": [
    "7. Leer un número entero positivo y determine si existen en el número dígitos repetidos. Reporte cuales son los dígitos repetidos. "
   ]
  },
  {
   "cell_type": "code",
   "execution_count": null,
   "metadata": {},
   "outputs": [],
   "source": [
    "'''\n",
    "Determinar si en un numero hay digitos repetidos y cuales son\n",
    "'''\n",
    "num= int(input('Escriba el número a evaluar: '))\n",
    "cont0=0 #se define contadores para todos los digitos\n",
    "cont1=0\n",
    "cont2=0\n",
    "cont3=0\n",
    "cont4=0\n",
    "cont5=0\n",
    "cont6=0\n",
    "cont7=0\n",
    "cont8=0\n",
    "cont9=0\n",
    "repetidos=list()#se define una lista que contendra aquellos dígitos que esten \n",
    "                #repetidos\n",
    "\n",
    "while num>0:\n",
    "    res=num%10 #evalua el ultimo dígito del número\n",
    "    if res==0:\n",
    "        cont0 += 1 #va contando cuantas veces esta cada número\n",
    "    if res==1:\n",
    "        cont1 += 1\n",
    "    elif res==2:\n",
    "        cont2 += 1\n",
    "    elif res==3:\n",
    "        cont3 += 1\n",
    "    elif res==4:\n",
    "        cont4 += 1\n",
    "    elif res==5:\n",
    "        cont5 += 1\n",
    "    elif res==6:\n",
    "        cont6 += 1\n",
    "    elif res==7:\n",
    "        cont7 += 1\n",
    "    elif res==8:\n",
    "        cont8 += 1\n",
    "    elif res==9:\n",
    "        cont9 += 1\n",
    "    num=int(num/10) #quita el último dígito para seguir iterando\n",
    "if (cont0>1 or cont1>1 or cont2>1 or cont3>1 or cont4>1 or cont5>1 or\n",
    "cont6>1 or cont7>1 or cont8>1 or cont9>1):\n",
    "    print('El numero tiene digitos repetidos') #si alguno de los contadores es\n",
    "                                               #mayor a 1, hay numeros repetido\n",
    "    if cont0>1:\n",
    "        repetidos.append(0) #va agregando a la lista de repetidos aquellos \n",
    "                            #numeros cuyo contador sea mayor a 1\n",
    "    if cont1>1:\n",
    "        repetidos.append(1)    \n",
    "    if cont2>1:\n",
    "        repetidos.append(2)   \n",
    "    if cont3>1:\n",
    "        repetidos.append(3)    \n",
    "    if cont4>1:\n",
    "        repetidos.append(4)\n",
    "    if cont5>1:\n",
    "        repetidos.append(5)\n",
    "    if cont6>1:\n",
    "        repetidos.append(6)\n",
    "    if cont7>1:\n",
    "        repetidos.append(7)\n",
    "    if cont8>1:\n",
    "        repetidos.append(8)\n",
    "    if cont9>1:\n",
    "        repetidos.append(9)\n",
    "    print('Los digitos que se repiten son: ',repetidos, end='')\n",
    "else:\n",
    "    print('No se encontraron numeros repetidos')"
   ]
  },
  {
   "cell_type": "markdown",
   "metadata": {},
   "source": [
    "8. Iterar a través de los primeros cien enteros positivos, buscando los múltiplos de 3 e imprimiendo y almacenándolos en una lista hasta encontrar los primeros 15 de ellos. Una vez encontrados, continuar iterando en busca de los múltiplos de 4 y almacenarlos en otra lista."
   ]
  },
  {
   "cell_type": "code",
   "execution_count": 19,
   "metadata": {},
   "outputs": [
    {
     "name": "stdout",
     "output_type": "stream",
     "text": [
      "Los multiplos de tres son:  [0, 3, 6, 9, 12, 15, 18, 21, 24, 27, 30, 33, 36, 39, 42]  \n",
      "Los multiplos de cuatro son:  [44, 48, 52, 56, 60, 64, 68, 72, 76, 80, 84, 88, 92, 96]"
     ]
    }
   ],
   "source": [
    "'''\n",
    "Encontrar los primeros 15 numeros positivos multiplos de tres y\n",
    "a partir de ahi los multiplos de 4 hasta 100\n",
    "'''\n",
    "\n",
    "limite_sup = int(input('Ingrese el límite superior: ')) #hasta ahi evaluaremos \n",
    "                                                        #los múltiplos\n",
    "cont=0 #contará las veces que se encuentra un múltiplo de 3\n",
    "limite2=0 #guardará el valor del ultimo múltiplo 3 almacenado\n",
    "mult_3=list() #lista que contendra multiplos de 3\n",
    "mult_4=list() #lista que contendrá multiplos de 4\n",
    "\n",
    "for i in range(limite_sup):\n",
    "    if cont<15:\n",
    "        if i%3==0: #si se cumple que es múltiplo de 3, contará 1 mas, e irá \n",
    "                   #almacenando cada uno en límite2, quedando limite2 como el \n",
    "                   #último valor almacenado\n",
    "            cont += 1\n",
    "            limite2 = i\n",
    "            mult_3.append(i) #agrega los multiplos de 3 a la lista\n",
    "    else:\n",
    "        break;\n",
    "\n",
    "for j in range(limite2,limite_sup): #evalua multiplos de 4 desde el ultimo \n",
    "                                    #multiplo de 3 hasta el limite superior\n",
    "    if j%4==0:\n",
    "        mult_4.append(j) #agrega los multiplos de 4 a la lista\n",
    "\n",
    "print('Los multiplos de tres son ', mult_3,' \\nLos multiplos de cuatro son: ', \n",
    "      mult_4,end='')"
   ]
  },
  {
   "cell_type": "markdown",
   "metadata": {},
   "source": [
    "9. Hacer un programa que lea las coordenadas (x1,y1,r1) y (x2,y2,r2) que corresponden al centro y al radio de dos círculos. Lea un punto de coordenadas (a,b). Determina si (a,b) está contenido: a) dentro del círculo 1; b) dentro del círculo 2; c) dentro de ambos círculos; d) fuera de ambos círculos. Recordemos que el círculo es el lugar geométrico de los puntos del plano cuya distancia a otro punto fijo, llamado centro, es menor o igual que una cantidad constante, llamada radio."
   ]
  },
  {
   "cell_type": "code",
   "execution_count": null,
   "metadata": {},
   "outputs": [],
   "source": [
    "'''\n",
    "Leer datos de centro y y radio de dos circulos y determinar la posición de una \n",
    "coordenada indicada\n",
    "'''\n",
    "\n",
    "import math\n",
    "\n",
    "centro1x=int(input('Escriba la coordenada en X del circulo 1: '))\n",
    "centro1y=int(input('Escriba la coordenada en Y del circulo 1: '))\n",
    "radio1=int(input('Escriba el radio del circulo 1: '))\n",
    "         \n",
    "centro2x=int(input('Escriba la coordenada en X del circulo 2: '))\n",
    "centro2y=int(input('Escriba la coordenada en Y del circulo 2: '))\n",
    "radio2=int(input('Escriba el radio del circulo 2: '))\n",
    "\n",
    "coord_x= int(input('Escriba la coordenada en X del punto a evaluar: '))\n",
    "coord_y= int(input('Escriba la coordenada en Y del punto a evaluar: '))\n",
    "\n",
    "dis_1 = math.sqrt((coord_x-centro1x)**2+(coord_y-centro1y)**2) #calcula la \n",
    "                                       #distancia desde el centro del circulo 1 \n",
    "                                       #hasta un punto de coordenadas dadas\n",
    "dis_2 = math.sqrt((coord_x-centro2x)**2+(coord_y-centro2y)**2) #calcula la \n",
    "                                       #distancia desde el centro del circulo 2 \n",
    "                                       #hasta un punto de coordenadas dadas\n",
    "\n",
    "if dis_1<radio1 and dis_2<radio2: #condiciones comparando las distancias con \n",
    "                                  #los radios siempre que las distancias sean \n",
    "                                  #menores a los radios, el punto estará dentro del círculo\n",
    "    print('La coordenadas ingresadas se encuentran dentro de ambos circulos.')\n",
    "elif dis_1<radio1 and dis_2>radio2:\n",
    "    print('Las coordenadas ingresadas se encuentran dentro del circulo 1.')\n",
    "elif dis_1>radio1 and dis_2<radio2:\n",
    "    print('Las coordenadas ingresadas se encuentran dentro del circulo 2.')\n",
    "elif dis_1>radio1 and dis_2>radio2:\n",
    "    print('Las coordenadas ingresadas se encuentran por fuera de ambos ' \n",
    "          'circulos.')"
   ]
  },
  {
   "cell_type": "markdown",
   "metadata": {},
   "source": [
    "10.  Sin utilizar el método .upper() para cadenas, escribir un programa que lea una cadena de texto y la imprima en mayúscula. Tenga en cuenta que el programa debe aceptar las letras con tilde, la ñ y la ü."
   ]
  },
  {
   "cell_type": "code",
   "execution_count": null,
   "metadata": {},
   "outputs": [],
   "source": [
    "'''\n",
    "Leer una cadena de texto y escribirla en mayuscula\n",
    "'''\n",
    "\n",
    "cad=str(input('Escriba una cadena: '))\n",
    "nueva_cad=str()\n",
    "\n",
    "for i in cad:\n",
    "    if ord(i)>96 and ord(i)<123: #si es letra minuscula \n",
    "        nueva_cad += chr(ord(i)-32) #convertirla en mayuscula restándole a su \n",
    "                                    #Unicode\n",
    "    elif (ord(i)==225 or ord(i)==233 or ord(i)==237 or ord(i)==243 or \n",
    "          ord(i)==250 or ord(i)==241 or ord(i)==252): #si es una vocal con \n",
    "                                                      #tilde, ñ o ü\n",
    "        nueva_cad += chr(ord(i)-32)\n",
    "    else:\n",
    "        nueva_cad += i #si esta en mayuscula o es otro caracter, dejarla igual\n",
    "        \n",
    "print(nueva_cad)"
   ]
  },
  {
   "cell_type": "markdown",
   "metadata": {},
   "source": [
    "11.  Escribir un programa que reciba una cadena de texto y reporte: \n",
    " \n",
    " a) cuántas letras vocales en mayúscula se entraron;   b) cuántas letras con tilde se entraron (minúsculas y mayúsculas);  c) cuántos dígitos se entraron,   d) cuántos espacios se entraron;  e) cuántas palabras reservadas se entraron.  \n",
    " \n",
    "Utilizar para ello los métodos de cadenas especializados como .isupper(), .isdigit(), etc. y la palabra reservada in.  "
   ]
  },
  {
   "cell_type": "code",
   "execution_count": 1,
   "metadata": {},
   "outputs": [
    {
     "name": "stdout",
     "output_type": "stream",
     "text": [
      "Escriba la cadena a evaluar: hola mundo cruel y DESPIÁdado for in\n",
      "Hay  3 vocales mayúsculas.\n",
      " Hay  1 letras con tilde.\n",
      " Hay  0 dígitos. \n",
      " Hay  6 espacios. \n",
      " Hay  2 palabras reservadas.\n"
     ]
    }
   ],
   "source": [
    "'''\n",
    "Escribir una cadena de texto e indicar numero de:\n",
    "Vocales mayúsculas, letras con tilde, digitos, espacios, palabras reservadas\n",
    "'''\n",
    "\n",
    "import keyword #libreria de palabras reservadas\n",
    "cad=str(input('Escriba la cadena a evaluar: '))\n",
    "cont_voc_mayus=int() #cuenta las vocales mayúsculas\n",
    "cont_tilde=int() #cuenta las vocales con tilde\n",
    "cont_dig=int() #cuenta número de digitos\n",
    "cont_esp=int() #cuenta número de espacios\n",
    "cont_pal_res=int() #cuenta palabras reservadas\n",
    "\n",
    "for i in cad:\n",
    "    if ord(i)==65 or ord(i)==69 or ord(i)==73 or ord(i)==79 or ord(i)==85: \n",
    "        cont_voc_mayus += 1 #cuando su Unicode corresponda al de vocales \n",
    "                            #mayusculas, aumentar e contador en 1\n",
    "    elif (ord(i)==193 or ord(i)==201 or ord(i)==205 or ord(i)==211 or ord(i)==218):\n",
    "        cont_voc_mayus += 1 #si corresponde a Unicode de mayusculas con tilde, \n",
    "                            #sumar ambos contadores\n",
    "        cont_tilde +=1\n",
    "    elif (ord(i)==225 or ord(i)==233 or ord(i)==237 or ord(i)==243 or \n",
    "          ord(i)==250): #si corresponde a Unicode de vocales minusculas con \n",
    "                        #tilde, sumar dicho contador\n",
    "        cont_tilde += 1\n",
    "    elif i.isdigit(): #dice si i es un digito y aumenta su contador\n",
    "        cont_dig += 1\n",
    "    elif i == ' ' :\n",
    "        cont_esp += 1 #si i es un espacio aumentar contador\n",
    "lista=cad.split() #convertir cadena en una lista de las palabras que la forman\n",
    "for j in lista: #evaluar cada palabra de la lista formada\n",
    "    if keyword.iskeyword(j):#decir si cada palabra es una palabra reservada\n",
    "        cont_pal_res += 1 #si es reservada aumentar su contador\n",
    "        \n",
    "print('Hay ', cont_voc_mayus, 'vocales mayúsculas.\\n Hay ', cont_tilde,\n",
    "      'letras con tilde.\\n Hay ', cont_dig, 'dígitos. \\n Hay ', cont_esp,\n",
    "      'espacios. \\n Hay ', cont_pal_res, 'palabras reservadas.')"
   ]
  },
  {
   "cell_type": "markdown",
   "metadata": {},
   "source": [
    "12. Hacer un programa que lea dos palabras (podrían estar en mayúscula o minúscula) y determine cual está primero en el diccionario. El programa debe soportar letras con tilde, la ü y la ñ. "
   ]
  },
  {
   "cell_type": "code",
   "execution_count": null,
   "metadata": {},
   "outputs": [],
   "source": [
    "'''\n",
    "Leer dos palabras y determinar cual esta primero en el diccionario\n",
    "'''\n",
    "\n",
    "palabra1=str(input('Escriba la primera palabra: '))\n",
    "palabra2=str(input('Escriba la segunda palabra: '))\n",
    "cambio1=str() #almacena cada letra modificada a conveniencia en palabra1\n",
    "aux1=str() #almacena las letras cambio1 o palabra1 según sea el caso\n",
    "cambio2=str() #almacena cada letra modificada a conveniencia en palabra2\n",
    "aux2=str() #almacena las letras cambio1 o palabra2 según sea el caso\n",
    "\n",
    "for i in palabra1:#evaluar cada letra de la palabra\n",
    "    if ord(i)>=97 and ord(i)<=110: #letras desde a hasta n                                 \n",
    "        aux1 += i #se guardan tal cual en aux1\n",
    "    elif ord(i)>110 and ord(i)<=122: #letras desde a hasta z\n",
    "        cambio1 = chr(ord(i)+1) #cambiar la letra por una que corresponda al\n",
    "                                #Unicode siguiente\n",
    "        aux1 += cambio1 #agregar cambio a aux1\n",
    "    elif i=='ñ' or i=='Ñ': \n",
    "        cambio1 = chr(111) #cambiar letra por una que tenga el unicode que le \n",
    "                           #sigue a la n y se antepone a la o\n",
    "        aux1 += cambio1\n",
    "    elif i=='á' or i=='Á' or i=='A':\n",
    "        cambio1 = 'a' #convertir mayusculas y tildes a minusculas sin tilde\n",
    "        aux1 += cambio1\n",
    "    elif i=='é' or i=='É' or i=='E':\n",
    "        cambio1 = 'e'\n",
    "        aux1 += cambio1\n",
    "    elif i=='í' or i=='Í' or i=='I':\n",
    "        cambio1 = 'i'\n",
    "        aux1 += cambio1\n",
    "    elif i=='ó' or i=='Ó' or i=='O':\n",
    "        cambio1 = 'p'\n",
    "        aux1 += cambio1\n",
    "    elif i=='ú' or i=='Ú' or i=='U':\n",
    "        cambio1 = 'v'\n",
    "        aux1 += cambio1\n",
    "    elif ord(i)>=65 and ord(i)<=78: #letras desde A a N (mayusculas)\n",
    "        cambio1 = chr(ord(i)-32) #se convierten a minusculas\n",
    "        aux1 += cambio1\n",
    "    elif ord(i)>=65 and ord(i)<97: #letras desde N a Z (mayusculas)\n",
    "        cambio1 = chr(ord(i)-31) #se convierten en minusculas y se les cambia \n",
    "                                 #por una letra con unicode siguiente\n",
    "        aux1 += cambio1\n",
    "        \n",
    "for j in palabra2: #igual procedimiento que con la palabra1, pero se cambio \n",
    "                   #aux1 por aux2, cambio1 por cambio2\n",
    "    if ord(j)>=97 and ord(j)<=110:\n",
    "        aux2 += j\n",
    "    elif ord(j)>110 and ord(j)<=122:\n",
    "        cambio2 = chr(ord(j)+1)\n",
    "        aux2 += cambio2\n",
    "    elif j=='ñ' or j=='Ñ':\n",
    "        cambio2 = chr(111)\n",
    "        aux2 += cambio2\n",
    "    elif j=='á' or j=='Á' or j=='A':\n",
    "        cambio2 = 'a'\n",
    "        aux2 += cambio2\n",
    "    elif j=='é' or j=='É' or j=='E':\n",
    "        cambio2 = 'e'\n",
    "        aux2 += cambio2\n",
    "    elif j=='í' or j=='Í' or j=='I':\n",
    "        cambio2 = 'i'\n",
    "        aux2 += cambio2\n",
    "    elif j=='ó' or j=='Ó' or j=='O':\n",
    "        cambio2 = 'p'\n",
    "        aux2 += cambio2\n",
    "    elif j=='ú' or j=='Ú' or j=='U':\n",
    "        cambio2 = 'v'\n",
    "        aux2 += cambio2\n",
    "    elif ord(j)>=65 and ord(j)<=78:\n",
    "        cambio2 = chr(ord(j)-32)\n",
    "        aux2 += cambio2\n",
    "    elif ord(j)>=65 and ord(j)<97:\n",
    "        cambio2 = chr(ord(j)-31)\n",
    "        aux2 += cambio2   \n",
    "    \n",
    "if aux1<aux2: #realizar comparación de unicode\n",
    "    print(palabra1, 'esta primero en el diccionario que ', palabra2)\n",
    "if aux2<aux1:\n",
    "    print(palabra2, 'está primero en el diccionario que ', palabra1)"
   ]
  },
  {
   "cell_type": "markdown",
   "metadata": {},
   "source": [
    "Escribir un programa que lea una cadena de texto y la imprima como un triángulo. Observe que la última cadena queda centrada con respecto a la base del triángulo"
   ]
  },
  {
   "cell_type": "code",
   "execution_count": null,
   "metadata": {},
   "outputs": [],
   "source": [
    "'''\n",
    "Leer una cadena de texto es imprimirla como triangulo\n",
    "'''\n",
    "\n",
    "cad=str(input('Escriba la cadena que desea convertir en triangulo: '))\n",
    "\n",
    "cad=cad.replace(' ', '') #se quitan los espacios existentes en la cadena\n",
    "fil = int(len(cad)**0.5) #se define numero de filas (sin contar base) de la \n",
    "                         #piramide\n",
    "piramide=str() #se declara variable que contiene una cadena en piramide\n",
    "base=int(len(cad)-fil**2) #se declara cuantas letras deben posicionarse en la \n",
    "                          #base de la piramide\n",
    "\n",
    "for i in range(1, fil+1):\n",
    "    piramide += '\\n' + ' ' *(fil-i) + cad[(i-1)**2 : i**2] #organizar letras de\n",
    "                                                         #la cadena en piramide\n",
    "piramide += '\\n' + cad[-base:].center(fil**2-(fil-1)**2,' ') #se posiciona la \n",
    "                                                           #base de la piramide\n",
    "print(piramide)"
   ]
  },
  {
   "cell_type": "markdown",
   "metadata": {},
   "source": [
    "14. Leer una cadena de texto y organice alfabéticamente cada una de las letras que la componen, repitiendo cada una tantas veces como se encuentra. Por ejemplo, la cadena ‘tarea importante’ será ‘aaaeeimnoprrttt’. (Note que no se incluyen los espacios). "
   ]
  },
  {
   "cell_type": "code",
   "execution_count": null,
   "metadata": {},
   "outputs": [],
   "source": [
    "'''\n",
    "Organizar una cadena de texto en orden alfabetico, repitiendo letras repetidas\n",
    "'''\n",
    "\n",
    "cad= str(input('Escriba la cadena de texto: '))\n",
    "\n",
    "cad_sin_esp=cad.replace(' ','') #quitar espacios de la cadena\n",
    "letras_ordenadas=''.join(sorted(cad_sin_esp)) #tomar cada letra, y unirlas en \n",
    "                                              #una cadena formada por todas las\n",
    "                                              #letras ordenadas alfabeticamente\n",
    "print(letras_ordenadas)"
   ]
  },
  {
   "cell_type": "markdown",
   "metadata": {},
   "source": [
    "\n",
    " 15.  Leer una lista de números enteros y enumerar cuantos elementos se repiten exactamente dos veces. Utilizar para tal fin el método count() de listas. "
   ]
  },
  {
   "cell_type": "code",
   "execution_count": null,
   "metadata": {},
   "outputs": [],
   "source": [
    "'''\n",
    "Leer una lista de numeros enteros y decir cuantos elementos e repiten dos veces\n",
    "'''\n",
    "\n",
    "lista_num=list() #crea lista donde se agregan los números que se inserta\n",
    "num_elem=int(input('Escriba cuantos elementos tendra su lista: '))\n",
    "lista_aux=list() #lista que contiene los numeros que estan dos veces exactamente\n",
    "cont=0 #cuentas las veces que se se encuntra un repetido en lista_aux\n",
    "\n",
    "for i in range(num_elem): \n",
    "    lista_num.append(int(input(f'Dato {i+1}: '))) #agrega elementos a la lista\n",
    "\n",
    "for j in lista_num:\n",
    "    if lista_num.count(j)==2:\n",
    "        lista_aux.append(j) #agrega los numeros que estan repetidos exactamente\n",
    "                            #dos veces a la lista_aux\n",
    "        \n",
    "for k in lista_aux:\n",
    "    if lista_aux.count(k)>1:\n",
    "        lista_aux.remove(k) #eliminará todos los elementos repetidos\n",
    "        cont +=1 #aumenta contador en uno cada que se haya mas de un elemento \n",
    "                 #en lista_auxiliar\n",
    "\n",
    "print('Hay', cont, 'elementos repetidos dos veces.')"
   ]
  }
 ],
 "metadata": {
  "kernelspec": {
   "display_name": "Python 3",
   "language": "python",
   "name": "python3"
  },
  "language_info": {
   "codemirror_mode": {
    "name": "ipython",
    "version": 3
   },
   "file_extension": ".py",
   "mimetype": "text/x-python",
   "name": "python",
   "nbconvert_exporter": "python",
   "pygments_lexer": "ipython3",
   "version": "3.7.3"
  }
 },
 "nbformat": 4,
 "nbformat_minor": 2
}
